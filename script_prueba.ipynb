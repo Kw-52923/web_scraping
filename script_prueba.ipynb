{
 "cells": [
  {
   "cell_type": "markdown",
   "id": "a7f19089",
   "metadata": {},
   "source": [
    "# Extracción de categorías del libro."
   ]
  },
  {
   "cell_type": "code",
   "execution_count": null,
   "id": "cae46810",
   "metadata": {},
   "outputs": [],
   "source": [
    "import requests\n",
    "from bs4 import BeautifulSoup\n",
    "\n",
    "# Defino la base del sitio principal\n",
    "BASE_URL = \"https://books.toscrape.com/\"\n",
    "\n",
    "# Creo la URL inicial del sitio y uso BASE_URL + url_relativa para armar URLs completas de las categorías\n",
    "CATEGORIAS_URL = BASE_URL + \"index.html\" \n",
    "\n",
    "# Extraigo con el método get las categorias y con el \"parser\" obtengo la info relevante\n",
    "respuesta = requests.get(CATEGORIAS_URL)\n",
    "soup = BeautifulSoup(respuesta.text, \"html.parser\")\n",
    "\n",
    "# Extaigo los enlaces de categorias (hay uno para cada categoria dentro de 'ul.nav-list')\n",
    "categorias_links = soup.select(\"ul.nav-list ul li a\")\n",
    "\n",
    "categoria = {} # Creo un diccionario vacio para guardar categorias\n",
    "\n",
    "for link in categorias_links: \n",
    "    nombre = link.text.strip() # Obtengo y limpio el nombre de la categoria\n",
    "    url_relativa = link['href'] # Saco la URL relativa del href\n",
    "    url_completa = BASE_URL + url_relativa # Armo la URL completa\n",
    "    categoria[nombre] = url_completa # Guardo en el diccionario: nombre -> URL\n",
    "\n",
    "print(f\"Categorias encontradas: {len(categoria)}\\n\")\n",
    "\n",
    "# Recorre cada par del diccionario : (clave,valor) y con el .items devuelve la lista de pares\n",
    "for nombre, url in categoria.items():\n",
    "    print(f\"- {nombre}: {url}\")\n",
    "    \n",
    "\n",
    "\n"
   ]
  },
  {
   "cell_type": "markdown",
   "id": "4303d37d",
   "metadata": {},
   "source": [
    "# Obtención de libros por categoría\n"
   ]
  },
  {
   "cell_type": "code",
   "execution_count": 20,
   "id": "e3dc0fff",
   "metadata": {},
   "outputs": [],
   "source": [
    "def obtener_autor(url_libro):\n",
    "    response = requests.get(url_libro)\n",
    "    if response.status_code == 200:\n",
    "        soup = BeautifulSoup(response.text, 'html.parser')\n",
    "        # El autor está en la segunda fila de la tabla (después del UPC)\n",
    "        info_table = soup.select('table.table.table-striped tr')\n",
    "        if len(info_table) > 1:\n",
    "            autor = info_table[1].text.strip()\n",
    "            print(f\"Autor encontrado: {autor}\")\n",
    "            return autor\n",
    "        else:\n",
    "            print(f\"No se encontró autor en: {url_libro}\")\n",
    "            return \"Autor no encontrado\"\n",
    "    else:\n",
    "        print(f\"Error al acceder a: {url_libro}\")\n",
    "        return \"Error\"\n"
   ]
  },
  {
   "cell_type": "code",
   "execution_count": 2,
   "id": "a06224c3",
   "metadata": {},
   "outputs": [],
   "source": [
    "import time # Para no hacer pedidos(requests) una tras otra, porque puede causar problemas\n",
    "\n",
    "\"\"\"Creo una función y le doy dos argumentos\"\"\"\n",
    "def obtener_libros_por_categoria(nombre_categoria,url_categoria):\n",
    "\n",
    "    \n",
    "    pagina_actual = url_categoria #Asigna la URL inicial de la categoría a una variable que iremos actualizando\n",
    "    libros = [] # Lista vacía en donde se va guardar un diccionario por cada libro\n",
    "\n",
    "    while True:\n",
    "        print(f\"Scrapeando {pagina_actual}...\")\n",
    "        respuesta = requests.get(pagina_actual)\n",
    "        soup = BeautifulSoup(respuesta.text, \"html.parser\")\n",
    "\n",
    "        libros_en_pagina = soup.select(\".product_pod\")\n",
    "        \n",
    "        for libro in libros_en_pagina:\n",
    "            titulo = libro.h3.a[\"title\"]\n",
    "            precio = libro.select_one(\".price_color\").text.strip()\n",
    "            rating = libro.p[\"class\"][1]\n",
    "\n",
    "            url_relativa = libro.h3.a[\"href\"]\n",
    "            url_libro = \"/\".join(pagina_actual.split(\"/\")[:-1]) + \"/\" + url_relativa\n",
    "\n",
    "            \n",
    "\n",
    "            libros.append({\n",
    "                \"categoria\": nombre_categoria,\n",
    "                \"titulo\": titulo,\n",
    "                \"precio\": precio,\n",
    "                \"rating\": rating,\n",
    "                \"url_libro\": url_libro,\n",
    "               \n",
    "            })\n",
    "\n",
    "\n",
    "        next_button = soup.select_one(\"li.next a\") # Busca si hay un enlace a la próxima página. Si existe, sigue\n",
    "        # Construye la URL de la próxima página\n",
    "        if next_button:\n",
    "            next_url = next_button[\"href\"]\n",
    "            # Si pagina_actual = \".../index.html\" y next_url = \"page-2.html\"➡ Reemplaza index.html con page-2.html\n",
    "            if \"index.html\" in pagina_actual:\n",
    "                pagina_actual = pagina_actual.replace(\"index.html\", next_url )\n",
    "            else:\n",
    "                # Esta línea se ejecuta cuando hay más de una página en la categoría (ejemplo: page-2.html, page-3.html, etc.).\n",
    "                pagina_actual = \"/\".join(pagina_actual.split(\"/\")[:-1])+ \"/\" + next_url\n",
    "        else: \n",
    "            break\n",
    "\n",
    "        time.sleep(1) # Espera 1 segundo antes de pasar a la próxima página\n",
    "    return libros # Devuelve la lista de diccionarios con todos los libros encontrados"
   ]
  },
  {
   "cell_type": "markdown",
   "id": "fa24a7be",
   "metadata": {},
   "source": [
    "# Visualización de los resultados"
   ]
  },
  {
   "cell_type": "code",
   "execution_count": 3,
   "id": "a88f784a",
   "metadata": {},
   "outputs": [
    {
     "name": "stdout",
     "output_type": "stream",
     "text": [
      "Scrapeando categoría: Travel...\n",
      "Scrapeando https://books.toscrape.com/catalogue/category/books/travel_2/index.html...\n",
      "Scrapeando categoría: Mystery...\n",
      "Scrapeando https://books.toscrape.com/catalogue/category/books/mystery_3/index.html...\n",
      "Scrapeando https://books.toscrape.com/catalogue/category/books/mystery_3/page-2.html...\n",
      "Scrapeando categoría: Historical Fiction...\n",
      "Scrapeando https://books.toscrape.com/catalogue/category/books/historical-fiction_4/index.html...\n",
      "Scrapeando https://books.toscrape.com/catalogue/category/books/historical-fiction_4/page-2.html...\n",
      "Scrapeando categoría: Sequential Art...\n",
      "Scrapeando https://books.toscrape.com/catalogue/category/books/sequential-art_5/index.html...\n",
      "Scrapeando https://books.toscrape.com/catalogue/category/books/sequential-art_5/page-2.html...\n",
      "Scrapeando https://books.toscrape.com/catalogue/category/books/sequential-art_5/page-3.html...\n",
      "Scrapeando https://books.toscrape.com/catalogue/category/books/sequential-art_5/page-4.html...\n",
      "Scrapeando categoría: Classics...\n",
      "Scrapeando https://books.toscrape.com/catalogue/category/books/classics_6/index.html...\n",
      "Scrapeando categoría: Philosophy...\n",
      "Scrapeando https://books.toscrape.com/catalogue/category/books/philosophy_7/index.html...\n",
      "Scrapeando categoría: Romance...\n",
      "Scrapeando https://books.toscrape.com/catalogue/category/books/romance_8/index.html...\n",
      "Scrapeando https://books.toscrape.com/catalogue/category/books/romance_8/page-2.html...\n",
      "Scrapeando categoría: Womens Fiction...\n",
      "Scrapeando https://books.toscrape.com/catalogue/category/books/womens-fiction_9/index.html...\n",
      "Scrapeando categoría: Fiction...\n",
      "Scrapeando https://books.toscrape.com/catalogue/category/books/fiction_10/index.html...\n",
      "Scrapeando https://books.toscrape.com/catalogue/category/books/fiction_10/page-2.html...\n",
      "Scrapeando https://books.toscrape.com/catalogue/category/books/fiction_10/page-3.html...\n",
      "Scrapeando https://books.toscrape.com/catalogue/category/books/fiction_10/page-4.html...\n",
      "Scrapeando categoría: Childrens...\n",
      "Scrapeando https://books.toscrape.com/catalogue/category/books/childrens_11/index.html...\n",
      "Scrapeando https://books.toscrape.com/catalogue/category/books/childrens_11/page-2.html...\n",
      "Scrapeando categoría: Religion...\n",
      "Scrapeando https://books.toscrape.com/catalogue/category/books/religion_12/index.html...\n",
      "Scrapeando categoría: Nonfiction...\n",
      "Scrapeando https://books.toscrape.com/catalogue/category/books/nonfiction_13/index.html...\n",
      "Scrapeando https://books.toscrape.com/catalogue/category/books/nonfiction_13/page-2.html...\n",
      "Scrapeando https://books.toscrape.com/catalogue/category/books/nonfiction_13/page-3.html...\n",
      "Scrapeando https://books.toscrape.com/catalogue/category/books/nonfiction_13/page-4.html...\n",
      "Scrapeando https://books.toscrape.com/catalogue/category/books/nonfiction_13/page-5.html...\n",
      "Scrapeando https://books.toscrape.com/catalogue/category/books/nonfiction_13/page-6.html...\n",
      "Scrapeando categoría: Music...\n",
      "Scrapeando https://books.toscrape.com/catalogue/category/books/music_14/index.html...\n",
      "Scrapeando categoría: Default...\n",
      "Scrapeando https://books.toscrape.com/catalogue/category/books/default_15/index.html...\n",
      "Scrapeando https://books.toscrape.com/catalogue/category/books/default_15/page-2.html...\n",
      "Scrapeando https://books.toscrape.com/catalogue/category/books/default_15/page-3.html...\n",
      "Scrapeando https://books.toscrape.com/catalogue/category/books/default_15/page-4.html...\n",
      "Scrapeando https://books.toscrape.com/catalogue/category/books/default_15/page-5.html...\n",
      "Scrapeando https://books.toscrape.com/catalogue/category/books/default_15/page-6.html...\n",
      "Scrapeando https://books.toscrape.com/catalogue/category/books/default_15/page-7.html...\n",
      "Scrapeando https://books.toscrape.com/catalogue/category/books/default_15/page-8.html...\n",
      "Scrapeando categoría: Science Fiction...\n",
      "Scrapeando https://books.toscrape.com/catalogue/category/books/science-fiction_16/index.html...\n",
      "Scrapeando categoría: Sports and Games...\n",
      "Scrapeando https://books.toscrape.com/catalogue/category/books/sports-and-games_17/index.html...\n",
      "Scrapeando categoría: Add a comment...\n",
      "Scrapeando https://books.toscrape.com/catalogue/category/books/add-a-comment_18/index.html...\n",
      "Scrapeando https://books.toscrape.com/catalogue/category/books/add-a-comment_18/page-2.html...\n",
      "Scrapeando https://books.toscrape.com/catalogue/category/books/add-a-comment_18/page-3.html...\n",
      "Scrapeando https://books.toscrape.com/catalogue/category/books/add-a-comment_18/page-4.html...\n",
      "Scrapeando categoría: Fantasy...\n",
      "Scrapeando https://books.toscrape.com/catalogue/category/books/fantasy_19/index.html...\n",
      "Scrapeando https://books.toscrape.com/catalogue/category/books/fantasy_19/page-2.html...\n",
      "Scrapeando https://books.toscrape.com/catalogue/category/books/fantasy_19/page-3.html...\n",
      "Scrapeando categoría: New Adult...\n",
      "Scrapeando https://books.toscrape.com/catalogue/category/books/new-adult_20/index.html...\n",
      "Scrapeando categoría: Young Adult...\n",
      "Scrapeando https://books.toscrape.com/catalogue/category/books/young-adult_21/index.html...\n",
      "Scrapeando https://books.toscrape.com/catalogue/category/books/young-adult_21/page-2.html...\n",
      "Scrapeando https://books.toscrape.com/catalogue/category/books/young-adult_21/page-3.html...\n",
      "Scrapeando categoría: Science...\n",
      "Scrapeando https://books.toscrape.com/catalogue/category/books/science_22/index.html...\n",
      "Scrapeando categoría: Poetry...\n",
      "Scrapeando https://books.toscrape.com/catalogue/category/books/poetry_23/index.html...\n",
      "Scrapeando categoría: Paranormal...\n",
      "Scrapeando https://books.toscrape.com/catalogue/category/books/paranormal_24/index.html...\n",
      "Scrapeando categoría: Art...\n",
      "Scrapeando https://books.toscrape.com/catalogue/category/books/art_25/index.html...\n",
      "Scrapeando categoría: Psychology...\n",
      "Scrapeando https://books.toscrape.com/catalogue/category/books/psychology_26/index.html...\n",
      "Scrapeando categoría: Autobiography...\n",
      "Scrapeando https://books.toscrape.com/catalogue/category/books/autobiography_27/index.html...\n",
      "Scrapeando categoría: Parenting...\n",
      "Scrapeando https://books.toscrape.com/catalogue/category/books/parenting_28/index.html...\n",
      "Scrapeando categoría: Adult Fiction...\n",
      "Scrapeando https://books.toscrape.com/catalogue/category/books/adult-fiction_29/index.html...\n",
      "Scrapeando categoría: Humor...\n",
      "Scrapeando https://books.toscrape.com/catalogue/category/books/humor_30/index.html...\n",
      "Scrapeando categoría: Horror...\n",
      "Scrapeando https://books.toscrape.com/catalogue/category/books/horror_31/index.html...\n",
      "Scrapeando categoría: History...\n",
      "Scrapeando https://books.toscrape.com/catalogue/category/books/history_32/index.html...\n",
      "Scrapeando categoría: Food and Drink...\n",
      "Scrapeando https://books.toscrape.com/catalogue/category/books/food-and-drink_33/index.html...\n",
      "Scrapeando https://books.toscrape.com/catalogue/category/books/food-and-drink_33/page-2.html...\n",
      "Scrapeando categoría: Christian Fiction...\n",
      "Scrapeando https://books.toscrape.com/catalogue/category/books/christian-fiction_34/index.html...\n",
      "Scrapeando categoría: Business...\n",
      "Scrapeando https://books.toscrape.com/catalogue/category/books/business_35/index.html...\n",
      "Scrapeando categoría: Biography...\n",
      "Scrapeando https://books.toscrape.com/catalogue/category/books/biography_36/index.html...\n",
      "Scrapeando categoría: Thriller...\n",
      "Scrapeando https://books.toscrape.com/catalogue/category/books/thriller_37/index.html...\n",
      "Scrapeando categoría: Contemporary...\n",
      "Scrapeando https://books.toscrape.com/catalogue/category/books/contemporary_38/index.html...\n",
      "Scrapeando categoría: Spirituality...\n",
      "Scrapeando https://books.toscrape.com/catalogue/category/books/spirituality_39/index.html...\n",
      "Scrapeando categoría: Academic...\n",
      "Scrapeando https://books.toscrape.com/catalogue/category/books/academic_40/index.html...\n",
      "Scrapeando categoría: Self Help...\n",
      "Scrapeando https://books.toscrape.com/catalogue/category/books/self-help_41/index.html...\n",
      "Scrapeando categoría: Historical...\n",
      "Scrapeando https://books.toscrape.com/catalogue/category/books/historical_42/index.html...\n",
      "Scrapeando categoría: Christian...\n",
      "Scrapeando https://books.toscrape.com/catalogue/category/books/christian_43/index.html...\n",
      "Scrapeando categoría: Suspense...\n",
      "Scrapeando https://books.toscrape.com/catalogue/category/books/suspense_44/index.html...\n",
      "Scrapeando categoría: Short Stories...\n",
      "Scrapeando https://books.toscrape.com/catalogue/category/books/short-stories_45/index.html...\n",
      "Scrapeando categoría: Novels...\n",
      "Scrapeando https://books.toscrape.com/catalogue/category/books/novels_46/index.html...\n",
      "Scrapeando categoría: Health...\n",
      "Scrapeando https://books.toscrape.com/catalogue/category/books/health_47/index.html...\n",
      "Scrapeando categoría: Politics...\n",
      "Scrapeando https://books.toscrape.com/catalogue/category/books/politics_48/index.html...\n",
      "Scrapeando categoría: Cultural...\n",
      "Scrapeando https://books.toscrape.com/catalogue/category/books/cultural_49/index.html...\n",
      "Scrapeando categoría: Erotica...\n",
      "Scrapeando https://books.toscrape.com/catalogue/category/books/erotica_50/index.html...\n",
      "Scrapeando categoría: Crime...\n",
      "Scrapeando https://books.toscrape.com/catalogue/category/books/crime_51/index.html...\n",
      "\n",
      "Scraping completado. Total de libros encontrados: 1000\n"
     ]
    }
   ],
   "source": [
    "#  lista vacía para juntar todos los libros del sitio\n",
    "todos_los_libros = []\n",
    "# Recorre todas las categorías que ya tenemos en el diccionario\n",
    "for nombre,url in categoria.items():\n",
    "    print(f\"Scrapeando categoría: {nombre}...\")\n",
    "\n",
    "    libros_categoria = obtener_libros_por_categoria(nombre,url)\n",
    "\n",
    "    todos_los_libros.extend(libros_categoria)  # agregamos todos los libros a la lista general\n",
    "print(f\"\\nScraping completado. Total de libros encontrados: {len(todos_los_libros)}\")"
   ]
  },
  {
   "cell_type": "markdown",
   "id": "ed5f7838",
   "metadata": {},
   "source": [
    " # Creación de Base de datos en SQLite usando los datos ya scrapeados. "
   ]
  },
  {
   "cell_type": "code",
   "execution_count": 1,
   "id": "9f361933",
   "metadata": {},
   "outputs": [],
   "source": [
    "import sqlite3\n",
    "\n",
    "# Crear conexión y cursor\n",
    "conn = sqlite3.connect(\"libros.db\") # Crea el archivo libros.db\n",
    "cursor = conn.cursor()\n",
    "\n",
    "cursor.execute(\"\"\"\n",
    "CREATE TABLE IF NOT EXISTS libros(\n",
    "      id INTEGER PRIMARY KEY AUTOINCREMENT,\n",
    "      titulo TEXT,\n",
    "      categoria TEXT,\n",
    "      precio REAL,\n",
    "      rating TEXT                       \n",
    ")\n",
    "\"\"\")\n",
    "conn.commit()"
   ]
  },
  {
   "cell_type": "markdown",
   "id": "0674ef8d",
   "metadata": {},
   "source": [
    "# Inserción de libros (desde todos_los_libros)"
   ]
  },
  {
   "cell_type": "code",
   "execution_count": 11,
   "id": "997237c5",
   "metadata": {},
   "outputs": [],
   "source": [
    "import re # Expresiones regulares\n",
    "\n",
    "for libro in todos_los_libros:\n",
    "    titulo = libro[\"titulo\"]\n",
    "    categoria = libro[\"categoria\"]\n",
    "\n",
    "    # \"sub\" → sustituye , \"r\"[^\\d.]\" → todo lo que no sea número ni punto ,\"\" → lo reemplaza por vacío (lo elimina)\n",
    "    precio_str = re.sub(r\"[^\\d.]\", \"\", libro[\"precio\"])\n",
    "    precio = float(precio_str)\n",
    "\n",
    "    rating = libro[\"rating\"]\n",
    "\n",
    "    cursor.execute(\"\"\"\n",
    "        INSERT INTO libros(titulo, categoria,precio,rating)\n",
    "        VALUES(?,?,?,?)\n",
    "    \"\"\",(titulo,categoria,precio,rating))\n",
    "conn.commit() # guardar los cambios en la base de datos"
   ]
  },
  {
   "cell_type": "markdown",
   "id": "6aba7b5b",
   "metadata": {},
   "source": [
    " # Ver si hay libros con precio cero (por error)"
   ]
  },
  {
   "cell_type": "code",
   "execution_count": 12,
   "id": "77ccbc00",
   "metadata": {},
   "outputs": [
    {
     "name": "stdout",
     "output_type": "stream",
     "text": [
      "Libros con precio 0: 0\n"
     ]
    }
   ],
   "source": [
    "cursor.execute(\"SELECT COUNT(*) FROM libros where precio = 0\") #COUNT(*) → Cuenta cuántas filas cumplen la condición.\n",
    "print(f\"Libros con precio 0: {cursor.fetchone()[0]}\") # fetchone() devuelve una tupla"
   ]
  },
  {
   "cell_type": "markdown",
   "id": "202a9ad5",
   "metadata": {},
   "source": [
    " # Obtener precio promedio"
   ]
  },
  {
   "cell_type": "code",
   "execution_count": null,
   "id": "897d814c",
   "metadata": {},
   "outputs": [
    {
     "name": "stdout",
     "output_type": "stream",
     "text": [
      "Precio promedio : 35.07\n"
     ]
    }
   ],
   "source": [
    "\"\"\"Calcula el promedio (average) de todos los precios en la tabla.\n",
    "  La función fetchone()[0] obtiene ese valor único.\n",
    "  El formato :.2f lo muestra con 2 decimales, estilo monetario.\"\"\"\n",
    "cursor.execute(\"SELECT AVG(precio) FROM libros\")\n",
    "print(f\"Precio promedio : {cursor.fetchone()[0]:.2f}\")"
   ]
  },
  {
   "cell_type": "markdown",
   "id": "58cda1cd",
   "metadata": {},
   "source": [
    "# Ver algunos libros con sus precios y ratings"
   ]
  },
  {
   "cell_type": "code",
   "execution_count": null,
   "id": "26066d17",
   "metadata": {},
   "outputs": [],
   "source": [
    "cursor.execute(\"SELECT titulo,precio,rating FROM libros LIMIT 5\")\n",
    "for fila in cursor.fetchall():\n",
    "    print(fila)\n"
   ]
  }
 ],
 "metadata": {
  "kernelspec": {
   "display_name": ".venv",
   "language": "python",
   "name": "python3"
  },
  "language_info": {
   "codemirror_mode": {
    "name": "ipython",
    "version": 3
   },
   "file_extension": ".py",
   "mimetype": "text/x-python",
   "name": "python",
   "nbconvert_exporter": "python",
   "pygments_lexer": "ipython3",
   "version": "3.13.3"
  }
 },
 "nbformat": 4,
 "nbformat_minor": 5
}
