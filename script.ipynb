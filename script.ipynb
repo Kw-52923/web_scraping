{
 "cells": [
  {
   "cell_type": "code",
   "execution_count": null,
   "id": "cae46810",
   "metadata": {},
   "outputs": [],
   "source": [
    "import requests\n",
    "from bs4 import BeautifulSoup\n",
    "\n",
    "url = \"https://books.toscrape.com/\"\n",
    "respuesta = requests.get(url)\n",
    "if respuesta.status_code == 200:\n",
    "    soup = BeautifulSoup(respuesta.text, \"html.parser\")\n",
    "\n",
    "    libros = soup.select(\".product_pod h3 a\")\n",
    "\n",
    "    for libro in libros:\n",
    "        print(libro[\"title\"])\n",
    "else:\n",
    "    print(\"Error al obtener el nombre de los libros\")"
   ]
  }
 ],
 "metadata": {
  "kernelspec": {
   "display_name": ".venv",
   "language": "python",
   "name": "python3"
  },
  "language_info": {
   "codemirror_mode": {
    "name": "ipython",
    "version": 3
   },
   "file_extension": ".py",
   "mimetype": "text/x-python",
   "name": "python",
   "nbconvert_exporter": "python",
   "pygments_lexer": "ipython3",
   "version": "3.13.3"
  }
 },
 "nbformat": 4,
 "nbformat_minor": 5
}
