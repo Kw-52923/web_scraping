{
 "cells": [
  {
   "cell_type": "code",
   "execution_count": null,
   "id": "cae46810",
   "metadata": {},
   "outputs": [],
   "source": [
    "import requests\n",
    "from bs4 import BeautifulSoup\n",
    "\n",
    "# Defino la base del sitio principal\n",
    "BASE_URL = \"https://books.toscrape.com/\"\n",
    "\n",
    "# Creo la URL inicial del sitio y uso BASE_URL + url_relativa para armar URLs completas de las categorías\n",
    "CATEGORIAS_URL = BASE_URL + \"index.html\" \n",
    "\n",
    "# Extraigo con el método get las categorias y con el \"parser\" obtengo la info relevante\n",
    "respuesta = requests.get(CATEGORIAS_URL)\n",
    "soup = BeautifulSoup(respuesta.text, \"html.parser\")\n",
    "\n",
    "# Extaigo los enlaces de categorias (hay uno para cada categoria dentro de 'ul.nav-list')\n",
    "categorias_links = soup.select(\"ul.nav-list ul li a\")\n",
    "\n",
    "categoria = {} # Creo un diccionario vacio para guardar categorias\n",
    "\n",
    "for link in categorias_links: \n",
    "    nombre = link.text.strip() # Obtengo y limpio el nombre de la categoria\n",
    "    url_relativa = link['href'] # Saco la URL relativa del href\n",
    "    url_completa = BASE_URL + url_relativa # Armo la URL completa\n",
    "    categoria[nombre] = url_completa # Guardo en el diccionario: nombre -> URL\n",
    "\n",
    "print(f\"Categorias encontradas: {len(categoria)}\\n\")\n",
    "\n",
    "# Recorre cada par del diccionario : (clave,valor) y con el .items devuelve la lista de pares\n",
    "for nombre, url in categoria.items():\n",
    "    print(f\"- {nombre}: {url}\")\n",
    "    \n",
    "\n",
    "\n"
   ]
  }
 ],
 "metadata": {
  "kernelspec": {
   "display_name": ".venv",
   "language": "python",
   "name": "python3"
  },
  "language_info": {
   "codemirror_mode": {
    "name": "ipython",
    "version": 3
   },
   "file_extension": ".py",
   "mimetype": "text/x-python",
   "name": "python",
   "nbconvert_exporter": "python",
   "pygments_lexer": "ipython3",
   "version": "3.13.3"
  }
 },
 "nbformat": 4,
 "nbformat_minor": 5
}
